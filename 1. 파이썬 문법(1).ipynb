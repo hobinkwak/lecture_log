{
 "cells": [
  {
   "cell_type": "markdown",
   "id": "7c49fa27",
   "metadata": {},
   "source": [
    "## 변수"
   ]
  },
  {
   "cell_type": "markdown",
   "id": "79e7a3f8",
   "metadata": {},
   "source": [
    "- 메모리를 할당"
   ]
  },
  {
   "cell_type": "code",
   "execution_count": 1,
   "id": "7511eef6",
   "metadata": {
    "ExecuteTime": {
     "end_time": "2021-09-04T13:39:37.298194Z",
     "start_time": "2021-09-04T13:39:37.288233Z"
    }
   },
   "outputs": [],
   "source": [
    "# 숫자값 할당\n",
    "a = 2021\n",
    "b = 2020\n",
    "\n",
    "# 문자열 할당\n",
    "str_a = \"2021\"\n",
    "str_b = \"2020\""
   ]
  },
  {
   "cell_type": "code",
   "execution_count": null,
   "id": "d9395298",
   "metadata": {
    "ExecuteTime": {
     "end_time": "2021-09-04T13:39:55.827262Z",
     "start_time": "2021-09-04T13:39:55.810259Z"
    }
   },
   "outputs": [],
   "source": [
    "# print()로 출력\n",
    "print(str_a)"
   ]
  },
  {
   "cell_type": "markdown",
   "id": "61f37bb9",
   "metadata": {},
   "source": [
    "- 식별자 규칙 (변수 이름 규칙)\n",
    "    - 숫자, 알파벳, 언더스코어\n",
    "        - 시작은 알파벳 혹은 언더스코어로\n",
    "    - 예약어 사용 안됨\n",
    "    - Snake Case : 변수, 함수\n",
    "    - Camel Case : 클래스\n",
    "\n"
   ]
  },
  {
   "cell_type": "code",
   "execution_count": null,
   "id": "c66f8fcc",
   "metadata": {
    "ExecuteTime": {
     "end_time": "2021-09-04T13:42:36.571182Z",
     "start_time": "2021-09-04T13:42:36.557251Z"
    }
   },
   "outputs": [],
   "source": [
    "_a = 'str'\n",
    "print(_a)"
   ]
  },
  {
   "cell_type": "code",
   "execution_count": null,
   "id": "9d48fd94",
   "metadata": {
    "ExecuteTime": {
     "end_time": "2021-09-04T13:42:37.751949Z",
     "start_time": "2021-09-04T13:42:37.736992Z"
    }
   },
   "outputs": [],
   "source": [
    "1a = 'error'\n",
    "print(1a)"
   ]
  },
  {
   "cell_type": "code",
   "execution_count": null,
   "id": "9bc8ff4f",
   "metadata": {
    "ExecuteTime": {
     "end_time": "2021-09-04T13:45:46.302361Z",
     "start_time": "2021-09-04T13:45:46.288400Z"
    }
   },
   "outputs": [],
   "source": [
    "# 예약어로 변수를 쓸 수 없다.\n",
    "def = 500"
   ]
  },
  {
   "cell_type": "code",
   "execution_count": null,
   "id": "f0190359",
   "metadata": {
    "ExecuteTime": {
     "end_time": "2021-09-04T13:45:42.653612Z",
     "start_time": "2021-09-04T13:45:42.633666Z"
    }
   },
   "outputs": [],
   "source": [
    "# 함수이름도 가능하면 안 쓰는 편이 좋다.\n",
    "\n",
    "min = 1\n",
    "print(min)\n",
    "\n",
    "print(min([1,3,2]))"
   ]
  },
  {
   "cell_type": "code",
   "execution_count": null,
   "id": "1a2cc88a",
   "metadata": {
    "ExecuteTime": {
     "end_time": "2021-09-04T13:44:45.095770Z",
     "start_time": "2021-09-04T13:44:45.089788Z"
    }
   },
   "outputs": [],
   "source": [
    "# Snake case\n",
    "\n",
    "my_first_snake = 132\n",
    "print(my_first_snake)"
   ]
  },
  {
   "cell_type": "code",
   "execution_count": null,
   "id": "1d90d505",
   "metadata": {
    "ExecuteTime": {
     "end_time": "2021-09-04T13:47:11.043118Z",
     "start_time": "2021-09-04T13:47:11.034141Z"
    }
   },
   "outputs": [],
   "source": [
    "# Camel case\n",
    "\n",
    "class myFirstClass:\n",
    "    def __init__(self):\n",
    "        self.a = 1\n",
    "        self.b = 2\n",
    "    \n",
    "    def add(self):\n",
    "        return self.a + self.b\n",
    "    \n",
    "test = myFirstClass()\n",
    "test.add()"
   ]
  },
  {
   "cell_type": "markdown",
   "id": "8b068ca8",
   "metadata": {},
   "source": [
    "## 자료형"
   ]
  },
  {
   "cell_type": "markdown",
   "id": "5c5ca064",
   "metadata": {},
   "source": [
    "### 숫자형"
   ]
  },
  {
   "cell_type": "code",
   "execution_count": null,
   "id": "c52fdae4",
   "metadata": {
    "ExecuteTime": {
     "end_time": "2021-09-04T13:52:29.962882Z",
     "start_time": "2021-09-04T13:52:29.943394Z"
    }
   },
   "outputs": [],
   "source": [
    "# int와 float\n",
    "\n",
    "a = 1\n",
    "b = 1.0\n",
    "\n",
    "print(\"변수 a의 타입은\", type(a))\n",
    "\n",
    "print(\"변수 b의 타입은\", type(b))"
   ]
  },
  {
   "cell_type": "code",
   "execution_count": null,
   "id": "2c82a533",
   "metadata": {
    "ExecuteTime": {
     "end_time": "2021-09-04T13:53:23.058046Z",
     "start_time": "2021-09-04T13:53:23.041098Z"
    }
   },
   "outputs": [],
   "source": [
    "# int와 float 연산을 하게 되면 Float으로 바뀜\n",
    "\n",
    "c = a + b\n",
    "\n",
    "print(type(c))"
   ]
  },
  {
   "cell_type": "markdown",
   "id": "dd8f9889",
   "metadata": {},
   "source": [
    "### 문자열"
   ]
  },
  {
   "cell_type": "code",
   "execution_count": null,
   "id": "6f6e9c5e",
   "metadata": {
    "ExecuteTime": {
     "end_time": "2021-09-04T13:54:25.828173Z",
     "start_time": "2021-09-04T13:54:25.823187Z"
    }
   },
   "outputs": [],
   "source": [
    "string = \"string\"\n",
    "\n",
    "string2 = 'string'\n",
    "\n",
    "string3 = \" '배고파' 라고 누군가 말했다. \"\n",
    "\n",
    "print(string3)"
   ]
  },
  {
   "cell_type": "code",
   "execution_count": null,
   "id": "63335f92",
   "metadata": {
    "ExecuteTime": {
     "end_time": "2021-09-04T13:55:42.859920Z",
     "start_time": "2021-09-04T13:55:42.842995Z"
    },
    "scrolled": true
   },
   "outputs": [],
   "source": [
    "# 독특한 기능을 하는 문자열\n",
    "\n",
    "print(r'\\t은', '\\t 들여쓰기 기능을 합니다.\\t')\n",
    "print()\n",
    "print(r'\\n은', '\\n 줄 바꾸기 기능을 합니다.\\n')"
   ]
  },
  {
   "cell_type": "markdown",
   "id": "f29955ca",
   "metadata": {},
   "source": [
    "### 불린"
   ]
  },
  {
   "cell_type": "code",
   "execution_count": null,
   "id": "e994b569",
   "metadata": {
    "ExecuteTime": {
     "end_time": "2021-09-04T13:57:32.301240Z",
     "start_time": "2021-09-04T13:57:32.292261Z"
    }
   },
   "outputs": [],
   "source": [
    "boolean1 = True\n",
    "boolean2 = False\n",
    "\n",
    "print(type(boolean1))\n",
    "print(boolean1 + boolean2)"
   ]
  },
  {
   "cell_type": "markdown",
   "id": "356d68b3",
   "metadata": {},
   "source": [
    "### 리스트"
   ]
  },
  {
   "cell_type": "code",
   "execution_count": null,
   "id": "a4ad9b76",
   "metadata": {
    "ExecuteTime": {
     "end_time": "2021-09-04T13:58:57.906244Z",
     "start_time": "2021-09-04T13:58:57.900270Z"
    }
   },
   "outputs": [],
   "source": [
    "ls = [1, 2, \"three\", [4, 5], True, 2021.2]\n",
    "print(ls)"
   ]
  },
  {
   "cell_type": "code",
   "execution_count": null,
   "id": "c7976cd3",
   "metadata": {
    "ExecuteTime": {
     "end_time": "2021-09-04T14:00:44.279810Z",
     "start_time": "2021-09-04T14:00:44.259866Z"
    }
   },
   "outputs": [],
   "source": [
    "# indexing\n",
    "print(ls[0])\n",
    "print(ls[-1])\n",
    "\n",
    "print()\n",
    "\n",
    "# slicing\n",
    "print(ls[2:4])\n",
    "print(ls[::-1])\n",
    "print(ls[::3])"
   ]
  },
  {
   "cell_type": "code",
   "execution_count": null,
   "id": "9f9c92b1",
   "metadata": {
    "ExecuteTime": {
     "end_time": "2021-09-04T14:01:20.595888Z",
     "start_time": "2021-09-04T14:01:20.586913Z"
    }
   },
   "outputs": [],
   "source": [
    "# 브로드 캐스팅\n",
    "ls[0:4] = ['It', 'is', 'broad', 'Casting']\n",
    "\n",
    "print(ls)"
   ]
  },
  {
   "cell_type": "code",
   "execution_count": null,
   "id": "c70f9969",
   "metadata": {
    "ExecuteTime": {
     "end_time": "2021-09-04T14:01:44.483066Z",
     "start_time": "2021-09-04T14:01:44.468289Z"
    }
   },
   "outputs": [],
   "source": [
    "# list 메서드\n",
    "ls = [1, 2, 3, 4]\n",
    "ls.append(5)\n",
    "ls"
   ]
  },
  {
   "cell_type": "code",
   "execution_count": null,
   "id": "581f670c",
   "metadata": {
    "ExecuteTime": {
     "end_time": "2021-09-04T14:02:00.760638Z",
     "start_time": "2021-09-04T14:02:00.745678Z"
    },
    "scrolled": true
   },
   "outputs": [],
   "source": [
    "dir(ls)"
   ]
  },
  {
   "cell_type": "markdown",
   "id": "205e0fce",
   "metadata": {},
   "source": [
    "### 튜플"
   ]
  },
  {
   "cell_type": "markdown",
   "id": "e4b8d063",
   "metadata": {},
   "source": [
    "- 값 수정이 안됨"
   ]
  },
  {
   "cell_type": "code",
   "execution_count": null,
   "id": "7153a58d",
   "metadata": {
    "ExecuteTime": {
     "end_time": "2021-09-04T14:02:48.679936Z",
     "start_time": "2021-09-04T14:02:48.666971Z"
    },
    "scrolled": true
   },
   "outputs": [],
   "source": [
    "tup = (1, 2, 3)\n",
    "print(type(tup))"
   ]
  },
  {
   "cell_type": "code",
   "execution_count": null,
   "id": "ec016629",
   "metadata": {
    "ExecuteTime": {
     "end_time": "2021-09-04T14:04:30.608488Z",
     "start_time": "2021-09-04T14:04:30.602505Z"
    }
   },
   "outputs": [],
   "source": [
    "# 여러 개의 변수에 할당 가능 (리스트도 가능)\n",
    "a, b = (1, 2)\n",
    "\n",
    "x, y = 3, 4\n",
    "\n",
    "z, _ = (5, 6)"
   ]
  },
  {
   "cell_type": "code",
   "execution_count": null,
   "id": "d72c37ac",
   "metadata": {
    "ExecuteTime": {
     "end_time": "2021-09-04T14:07:00.539513Z",
     "start_time": "2021-09-04T14:07:00.522550Z"
    },
    "scrolled": true
   },
   "outputs": [],
   "source": [
    "# 리스트에 비해 튜플이 차지하는 저장공간이 작다.\n",
    "import sys\n",
    "\n",
    "test_ls = ['a','b','c','d','e']\n",
    "test_tup = ('a','b','c','d','e')\n",
    "\n",
    "\n",
    "print('리스트가 차지하는 저장공간', sys.getsizeof(test_ls))\n",
    "print('튜플이 차지하는 저장공간', sys.getsizeof(test_tup))"
   ]
  },
  {
   "cell_type": "markdown",
   "id": "78a6b8dc",
   "metadata": {},
   "source": [
    "### 딕셔너리"
   ]
  },
  {
   "cell_type": "markdown",
   "id": "b565494a",
   "metadata": {},
   "source": [
    "- key : value의 형태\n",
    "    - key는 int와 string만 가능"
   ]
  },
  {
   "cell_type": "code",
   "execution_count": null,
   "id": "75109074",
   "metadata": {
    "ExecuteTime": {
     "end_time": "2021-09-04T14:10:55.575744Z",
     "start_time": "2021-09-04T14:10:55.564914Z"
    }
   },
   "outputs": [],
   "source": [
    "dictionary = {\n",
    "        500 : \"value1\",\n",
    "        \"string\": [1,2,3,4]\n",
    "}\n",
    "dictionary"
   ]
  },
  {
   "cell_type": "code",
   "execution_count": null,
   "id": "13585dba",
   "metadata": {
    "ExecuteTime": {
     "end_time": "2021-09-04T14:11:03.929746Z",
     "start_time": "2021-09-04T14:11:03.910284Z"
    }
   },
   "outputs": [],
   "source": [
    "dictionary[500]"
   ]
  },
  {
   "cell_type": "code",
   "execution_count": null,
   "id": "0cbcede7",
   "metadata": {
    "ExecuteTime": {
     "end_time": "2021-09-04T14:11:23.039463Z",
     "start_time": "2021-09-04T14:11:23.021512Z"
    }
   },
   "outputs": [],
   "source": [
    "# value 수정\n",
    "dictionary[\"string\"] = [5,6,7]\n",
    "dictionary"
   ]
  },
  {
   "cell_type": "code",
   "execution_count": null,
   "id": "c019a1bb",
   "metadata": {
    "ExecuteTime": {
     "end_time": "2021-09-04T14:11:47.752862Z",
     "start_time": "2021-09-04T14:11:47.729919Z"
    }
   },
   "outputs": [],
   "source": [
    "dictionary['add'] = 'blahblah'\n",
    "dictionary"
   ]
  },
  {
   "cell_type": "code",
   "execution_count": null,
   "id": "489d9106",
   "metadata": {
    "ExecuteTime": {
     "end_time": "2021-09-04T14:12:34.766963Z",
     "start_time": "2021-09-04T14:12:34.750010Z"
    }
   },
   "outputs": [],
   "source": [
    "print(\"딕셔너리의 key값들\", dictionary.keys(),'\\n')\n",
    "\n",
    "print(\"딕셔너리의 value값들\", dictionary.values(),'\\n')\n",
    "\n",
    "print(\"딕셔너리의 key-valu값들\", dictionary.items(),'\\n')"
   ]
  },
  {
   "cell_type": "markdown",
   "id": "33a77f81",
   "metadata": {},
   "source": [
    "## 연산자"
   ]
  },
  {
   "cell_type": "markdown",
   "id": "1aa51aea",
   "metadata": {},
   "source": [
    "- 우선순위\n",
    "    - 산술 > 비교 > 멤버 > 논리\n",
    "        - 산술연산자 : +, -, *, / , //, %, **\n",
    "        - 비교연산자 : >, <, ==, !=, <=, >= \n",
    "        - 멤버연산자 : not in, in\n",
    "        - 논리연산자 : or, and, not\n",
    "        - 할당연산자 : =, +=, //=, **= "
   ]
  },
  {
   "cell_type": "code",
   "execution_count": null,
   "id": "bafb6b12",
   "metadata": {
    "ExecuteTime": {
     "end_time": "2021-09-04T14:18:26.610197Z",
     "start_time": "2021-09-04T14:18:26.601547Z"
    }
   },
   "outputs": [],
   "source": [
    "# 산술\n",
    "\n",
    "((1 + 0.05) * (1 + 0.07)) ** (1/2)"
   ]
  },
  {
   "cell_type": "code",
   "execution_count": null,
   "id": "2ee89d13",
   "metadata": {
    "ExecuteTime": {
     "end_time": "2021-09-04T14:18:51.867355Z",
     "start_time": "2021-09-04T14:18:51.860374Z"
    }
   },
   "outputs": [],
   "source": [
    "# 할당\n",
    "\n",
    "a = 150\n",
    "\n",
    "a += 6\n",
    "\n",
    "a "
   ]
  },
  {
   "cell_type": "code",
   "execution_count": null,
   "id": "69a4eaf6",
   "metadata": {
    "ExecuteTime": {
     "end_time": "2021-09-04T14:19:29.338157Z",
     "start_time": "2021-09-04T14:19:29.331172Z"
    }
   },
   "outputs": [],
   "source": [
    "# 비교\n",
    "a = 5\n",
    "b = 10\n",
    "\n",
    "print(a < b)\n",
    "\n",
    "print(a == b)\n",
    "\n",
    "print(a != b)"
   ]
  },
  {
   "cell_type": "code",
   "execution_count": null,
   "id": "509f5f42",
   "metadata": {
    "ExecuteTime": {
     "end_time": "2021-09-04T14:20:17.791728Z",
     "start_time": "2021-09-04T14:20:17.782240Z"
    }
   },
   "outputs": [],
   "source": [
    "# 논리\n",
    "\n",
    "print(True or False)\n",
    "\n",
    "print(not True and False)"
   ]
  },
  {
   "cell_type": "code",
   "execution_count": null,
   "id": "c07e8356",
   "metadata": {
    "ExecuteTime": {
     "end_time": "2021-09-04T14:22:00.968667Z",
     "start_time": "2021-09-04T14:22:00.958694Z"
    }
   },
   "outputs": [],
   "source": [
    "# 멤버\n",
    "\n",
    "members = ['Man', 'Dog', 'Cat']\n",
    "print('Alien' in members)\n",
    "\n",
    "print('Dog' not in members)"
   ]
  },
  {
   "cell_type": "markdown",
   "id": "b1cadd60",
   "metadata": {},
   "source": [
    "## if 조건문"
   ]
  },
  {
   "cell_type": "markdown",
   "id": "0ee66716",
   "metadata": {},
   "source": [
    "- 특정 조건이 만족되었을 때 코드를 실행\n",
    "    -  if\n",
    "    - elif\n",
    "    - else"
   ]
  },
  {
   "cell_type": "code",
   "execution_count": null,
   "id": "0a84bbdc",
   "metadata": {
    "ExecuteTime": {
     "end_time": "2021-09-04T14:24:22.716109Z",
     "start_time": "2021-09-04T14:24:22.708130Z"
    }
   },
   "outputs": [],
   "source": [
    "if True:\n",
    "    print(\"조건문 성공\")"
   ]
  },
  {
   "cell_type": "code",
   "execution_count": null,
   "id": "424746b9",
   "metadata": {
    "ExecuteTime": {
     "end_time": "2021-09-04T14:25:07.865751Z",
     "start_time": "2021-09-04T14:25:07.854810Z"
    }
   },
   "outputs": [],
   "source": [
    "var = 1\n",
    "\n",
    "if var:\n",
    "    print(\"성공\")\n",
    "else:\n",
    "    print('실패')"
   ]
  },
  {
   "cell_type": "code",
   "execution_count": null,
   "id": "5c03114e",
   "metadata": {
    "ExecuteTime": {
     "end_time": "2021-09-04T14:30:59.250665Z",
     "start_time": "2021-09-04T14:30:59.237095Z"
    }
   },
   "outputs": [],
   "source": [
    "num = 0\n",
    "\n",
    "if num % 2:\n",
    "    print('홀수입니다.')\n",
    "elif num == 0 :\n",
    "    print('0입니다.')\n",
    "else:\n",
    "    print('짝수입니다')"
   ]
  },
  {
   "cell_type": "code",
   "execution_count": null,
   "id": "e2dc6fef",
   "metadata": {
    "ExecuteTime": {
     "end_time": "2021-09-04T14:28:08.712894Z",
     "start_time": "2021-09-04T14:28:03.956499Z"
    }
   },
   "outputs": [],
   "source": [
    "#문자열로 입력받음\n",
    "member = input()\n",
    "\n",
    "if member in members:\n",
    "    print(f\"{member}는 집에 있어요!\")\n",
    "else:\n",
    "    print(f\"{member}는 집에 없어요!\")"
   ]
  },
  {
   "cell_type": "markdown",
   "id": "3869377a",
   "metadata": {},
   "source": [
    "## 반복문"
   ]
  },
  {
   "cell_type": "markdown",
   "id": "208dc79a",
   "metadata": {},
   "source": [
    "- 코드를 반복적으로 사용할 때\n",
    "- For문 / While문 + continue / break\n",
    "    - list comprehension"
   ]
  },
  {
   "cell_type": "markdown",
   "id": "3723bee9",
   "metadata": {},
   "source": [
    "### while"
   ]
  },
  {
   "cell_type": "code",
   "execution_count": null,
   "id": "28783bfc",
   "metadata": {
    "ExecuteTime": {
     "end_time": "2021-09-04T14:36:55.618215Z",
     "start_time": "2021-09-04T14:36:55.611234Z"
    }
   },
   "outputs": [],
   "source": [
    "ls = []\n",
    "count = 0\n",
    "while var:\n",
    "    count += 1\n",
    "    ls.append(count)\n",
    "    if count == 100:\n",
    "        print(\"완료되었습니다.\")\n",
    "        break"
   ]
  },
  {
   "cell_type": "code",
   "execution_count": null,
   "id": "8b07380f",
   "metadata": {
    "ExecuteTime": {
     "end_time": "2021-09-04T14:36:59.876263Z",
     "start_time": "2021-09-04T14:36:59.871277Z"
    }
   },
   "outputs": [],
   "source": [
    "len(ls)"
   ]
  },
  {
   "cell_type": "markdown",
   "id": "53cc5d23",
   "metadata": {},
   "source": [
    "### for\n",
    "\n",
    "- **for 'var' in 'iterables'**:\n",
    "\n",
    "    코드1\n",
    "    \n",
    "    코드2\n",
    "    \n",
    "    ...\n"
   ]
  },
  {
   "cell_type": "code",
   "execution_count": null,
   "id": "e4a239f3",
   "metadata": {
    "ExecuteTime": {
     "end_time": "2021-09-04T14:40:36.741698Z",
     "start_time": "2021-09-04T14:40:36.730763Z"
    }
   },
   "outputs": [],
   "source": [
    "total = 0\n",
    "for num in [1,2,3,4,5]:\n",
    "    total += num\n",
    "print(total)"
   ]
  },
  {
   "cell_type": "markdown",
   "id": "487e80d9",
   "metadata": {},
   "source": [
    "#### 예제#1"
   ]
  },
  {
   "cell_type": "code",
   "execution_count": null,
   "id": "c49066a2",
   "metadata": {
    "ExecuteTime": {
     "end_time": "2021-09-04T14:44:08.342295Z",
     "start_time": "2021-09-04T14:44:08.332278Z"
    }
   },
   "outputs": [],
   "source": [
    "# 1부터 100까지의 정수 연쇄를 원소로 가지는 리스트 ls에 대해\n",
    "# ls[i] + ls[j] 가 k로 나눠지는, i,j쌍은 몇개일까??\n",
    "# 단, i와 j는 서로 다른 값\n",
    "\n",
    "\n",
    "n = len(ls)\n",
    "k = 3\n",
    "ls = range(1, 101)\n",
    "\n",
    "count = 0\n",
    "\n",
    "for i in range(0, n-1):\n",
    "    \n",
    "    for j in range(i+1, n):\n",
    "        \n",
    "        if not (ls[i]+ls[j]) % k:\n",
    "            \n",
    "            count += 1"
   ]
  },
  {
   "cell_type": "markdown",
   "id": "d3063f9c",
   "metadata": {},
   "source": [
    "### List Comprehension\n",
    "\n",
    "- for문 보다 빠르게 동작."
   ]
  },
  {
   "cell_type": "code",
   "execution_count": null,
   "id": "c9f6da17",
   "metadata": {
    "ExecuteTime": {
     "end_time": "2021-09-04T14:45:14.871934Z",
     "start_time": "2021-09-04T14:45:14.860407Z"
    }
   },
   "outputs": [],
   "source": [
    "# 모든 리스트 값에 100을 곱하기\n",
    "\n",
    "\n",
    "ls = [0, 1, 2, 3, 4]\n",
    "ls2 = []\n",
    "for num in ls:\n",
    "    ls2.append(num*100)\n",
    "print(ls2)"
   ]
  },
  {
   "cell_type": "code",
   "execution_count": null,
   "id": "aae8258a",
   "metadata": {
    "ExecuteTime": {
     "end_time": "2021-09-04T14:45:30.509855Z",
     "start_time": "2021-09-04T14:45:30.500879Z"
    }
   },
   "outputs": [],
   "source": [
    "ls3 = [num*100 for num in ls]\n",
    "print(ls3)"
   ]
  },
  {
   "cell_type": "markdown",
   "id": "e6341ddd",
   "metadata": {},
   "source": [
    "- 리스트 컴프리헨션과 조건문"
   ]
  },
  {
   "cell_type": "code",
   "execution_count": null,
   "id": "cbe0ed0f",
   "metadata": {
    "ExecuteTime": {
     "end_time": "2021-09-04T14:47:00.150087Z",
     "start_time": "2021-09-04T14:47:00.141110Z"
    }
   },
   "outputs": [],
   "source": [
    "ls = range(1, 101)\n",
    "ls = [num for num in ls if num % 2]\n",
    "\n",
    "\n",
    "print(len(ls))"
   ]
  },
  {
   "cell_type": "code",
   "execution_count": null,
   "id": "e88f4bd4",
   "metadata": {
    "ExecuteTime": {
     "end_time": "2021-09-04T14:47:10.902517Z",
     "start_time": "2021-09-04T14:47:10.884322Z"
    }
   },
   "outputs": [],
   "source": [
    "dir(ls)"
   ]
  },
  {
   "cell_type": "code",
   "execution_count": null,
   "id": "3251ff46",
   "metadata": {
    "ExecuteTime": {
     "end_time": "2021-09-04T14:47:44.249068Z",
     "start_time": "2021-09-04T14:47:44.244074Z"
    }
   },
   "outputs": [],
   "source": [
    "[func for func in dir(ls) if func[0] != \"_\"]"
   ]
  },
  {
   "cell_type": "markdown",
   "id": "786f2032",
   "metadata": {},
   "source": [
    "## 기본 내장함수"
   ]
  },
  {
   "cell_type": "markdown",
   "id": "dc2e4be6",
   "metadata": {},
   "source": [
    "- min\n",
    "- abs\n",
    "- max\n",
    "- int\n",
    "- float\n",
    "- str\n",
    "- list\n",
    "- len\n",
    "- range\n",
    "- round\n",
    "- sorted\n",
    "- sum()\n",
    "- type()\n",
    "- zip()"
   ]
  },
  {
   "cell_type": "code",
   "execution_count": null,
   "id": "570194f9",
   "metadata": {
    "ExecuteTime": {
     "end_time": "2021-09-04T15:00:22.642935Z",
     "start_time": "2021-09-04T15:00:22.635953Z"
    }
   },
   "outputs": [],
   "source": [
    "#최댓값\n",
    "max([100, 200])"
   ]
  },
  {
   "cell_type": "code",
   "execution_count": null,
   "id": "03020180",
   "metadata": {
    "ExecuteTime": {
     "end_time": "2021-09-04T15:00:28.880932Z",
     "start_time": "2021-09-04T15:00:28.876913Z"
    }
   },
   "outputs": [],
   "source": [
    "#합\n",
    "print(sum(num for num in range(1,11)))"
   ]
  },
  {
   "cell_type": "code",
   "execution_count": null,
   "id": "f9007b94",
   "metadata": {
    "ExecuteTime": {
     "end_time": "2021-09-04T15:00:42.156047Z",
     "start_time": "2021-09-04T15:00:42.142083Z"
    }
   },
   "outputs": [],
   "source": [
    "#형변환 함수\n",
    "str(100)"
   ]
  },
  {
   "cell_type": "code",
   "execution_count": null,
   "id": "5566bbcb",
   "metadata": {
    "ExecuteTime": {
     "end_time": "2021-09-04T15:00:42.353222Z",
     "start_time": "2021-09-04T15:00:42.341237Z"
    }
   },
   "outputs": [],
   "source": [
    "#반올림\n",
    "round(500.12345, 2)"
   ]
  },
  {
   "cell_type": "code",
   "execution_count": null,
   "id": "f58da4f8",
   "metadata": {
    "ExecuteTime": {
     "end_time": "2021-09-04T15:00:42.505047Z",
     "start_time": "2021-09-04T15:00:42.486099Z"
    }
   },
   "outputs": [],
   "source": [
    "#zip\n",
    "list(zip([1,2,3], [3,2,1]))"
   ]
  }
 ],
 "metadata": {
  "hide_input": false,
  "kernelspec": {
   "display_name": "Python 3 (ipykernel)",
   "language": "python",
   "name": "python3"
  },
  "language_info": {
   "codemirror_mode": {
    "name": "ipython",
    "version": 3
   },
   "file_extension": ".py",
   "mimetype": "text/x-python",
   "name": "python",
   "nbconvert_exporter": "python",
   "pygments_lexer": "ipython3",
   "version": "3.10.14"
  },
  "toc": {
   "base_numbering": 1,
   "nav_menu": {},
   "number_sections": true,
   "sideBar": true,
   "skip_h1_title": false,
   "title_cell": "Table of Contents",
   "title_sidebar": "Contents",
   "toc_cell": false,
   "toc_position": {},
   "toc_section_display": true,
   "toc_window_display": false
  },
  "varInspector": {
   "cols": {
    "lenName": 16,
    "lenType": 16,
    "lenVar": 40
   },
   "kernels_config": {
    "python": {
     "delete_cmd_postfix": "",
     "delete_cmd_prefix": "del ",
     "library": "var_list.py",
     "varRefreshCmd": "print(var_dic_list())"
    },
    "r": {
     "delete_cmd_postfix": ") ",
     "delete_cmd_prefix": "rm(",
     "library": "var_list.r",
     "varRefreshCmd": "cat(var_dic_list()) "
    }
   },
   "types_to_exclude": [
    "module",
    "function",
    "builtin_function_or_method",
    "instance",
    "_Feature"
   ],
   "window_display": false
  }
 },
 "nbformat": 4,
 "nbformat_minor": 5
}
