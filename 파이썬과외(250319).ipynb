{
  "nbformat": 4,
  "nbformat_minor": 0,
  "metadata": {
    "colab": {
      "provenance": [],
      "authorship_tag": "ABX9TyMBHDFz8YiTLKoBalXJz2Dj",
      "include_colab_link": true
    },
    "kernelspec": {
      "name": "python3",
      "display_name": "Python 3"
    },
    "language_info": {
      "name": "python"
    }
  },
  "cells": [
    {
      "cell_type": "markdown",
      "metadata": {
        "id": "view-in-github",
        "colab_type": "text"
      },
      "source": [
        "<a href=\"https://colab.research.google.com/github/hobinkwak/lecture_log/blob/main/%ED%8C%8C%EC%9D%B4%EC%8D%AC%EA%B3%BC%EC%99%B8(250319).ipynb\" target=\"_parent\"><img src=\"https://colab.research.google.com/assets/colab-badge.svg\" alt=\"Open In Colab\"/></a>"
      ]
    },
    {
      "cell_type": "markdown",
      "source": [
        "# 변수"
      ],
      "metadata": {
        "id": "K__mnpOxH0Ld"
      }
    },
    {
      "cell_type": "code",
      "source": [
        "# 숫자값 할당\n",
        "a = 2024     # a <- 2024를 넣는다.\n",
        "b = 2025\n",
        "\n",
        "# 문자열(string) 할당\n",
        "string_a = \"사과\"\n",
        "string_b = '오렌지'"
      ],
      "metadata": {
        "id": "nUB4qMt-HMBy"
      },
      "execution_count": 17,
      "outputs": []
    },
    {
      "cell_type": "code",
      "source": [
        "# print() 출력\n",
        "print(a)"
      ],
      "metadata": {
        "colab": {
          "base_uri": "https://localhost:8080/"
        },
        "id": "RFRCNxQQJ0oV",
        "outputId": "bdb68ae3-1ff4-4870-b26f-b488a7c0527d"
      },
      "execution_count": 21,
      "outputs": [
        {
          "output_type": "stream",
          "name": "stdout",
          "text": [
            "2024\n"
          ]
        }
      ]
    },
    {
      "cell_type": "markdown",
      "source": [
        "- 식별자 규칙 (=변수 이름 규칙)\n",
        "    - 숫자, 알파벳, 언더바\n",
        "        - 시작은 알파벳 혹은 언더바\n",
        "    - 예약어 같은 함수는 쓰면 안됨"
      ],
      "metadata": {
        "id": "m2qECw-bJcD0"
      }
    },
    {
      "cell_type": "code",
      "source": [
        "_a = 'string'\n",
        "print(_a)"
      ],
      "metadata": {
        "colab": {
          "base_uri": "https://localhost:8080/"
        },
        "id": "_q8plH4LHXQk",
        "outputId": "20f68db1-34da-4a10-9281-be77fb3d6623"
      },
      "execution_count": 23,
      "outputs": [
        {
          "output_type": "stream",
          "name": "stdout",
          "text": [
            "string\n"
          ]
        }
      ]
    },
    {
      "cell_type": "code",
      "source": [
        "1_a = 'apple'\n",
        "print(1_a)"
      ],
      "metadata": {
        "colab": {
          "base_uri": "https://localhost:8080/",
          "height": 106
        },
        "id": "tq3z6D7yKU9G",
        "outputId": "f1897911-89e8-4d2d-81e9-a1e73e6472b6"
      },
      "execution_count": 25,
      "outputs": [
        {
          "output_type": "error",
          "ename": "SyntaxError",
          "evalue": "invalid decimal literal (<ipython-input-25-8bb2bbfcb6e5>, line 1)",
          "traceback": [
            "\u001b[0;36m  File \u001b[0;32m\"<ipython-input-25-8bb2bbfcb6e5>\"\u001b[0;36m, line \u001b[0;32m1\u001b[0m\n\u001b[0;31m    1_a = 'apple'\u001b[0m\n\u001b[0m     ^\u001b[0m\n\u001b[0;31mSyntaxError\u001b[0m\u001b[0;31m:\u001b[0m invalid decimal literal\n"
          ]
        }
      ]
    },
    {
      "cell_type": "code",
      "source": [
        "# 예약어로 변수를 쓸 수 없다\n",
        "def = 500"
      ],
      "metadata": {
        "colab": {
          "base_uri": "https://localhost:8080/",
          "height": 106
        },
        "id": "G0J6yu-uKjUB",
        "outputId": "b5d6f271-2e40-4b44-b5d0-8ce408f65d83"
      },
      "execution_count": 26,
      "outputs": [
        {
          "output_type": "error",
          "ename": "SyntaxError",
          "evalue": "invalid syntax (<ipython-input-26-9971fc1b274a>, line 2)",
          "traceback": [
            "\u001b[0;36m  File \u001b[0;32m\"<ipython-input-26-9971fc1b274a>\"\u001b[0;36m, line \u001b[0;32m2\u001b[0m\n\u001b[0;31m    def = 500\u001b[0m\n\u001b[0m        ^\u001b[0m\n\u001b[0;31mSyntaxError\u001b[0m\u001b[0;31m:\u001b[0m invalid syntax\n"
          ]
        }
      ]
    },
    {
      "cell_type": "code",
      "source": [
        "# 함수이름은 가급적 피하자\n",
        "min = 1\n",
        "print(min)\n",
        "print(min(1, 2, 3, 4, 5))"
      ],
      "metadata": {
        "colab": {
          "base_uri": "https://localhost:8080/",
          "height": 193
        },
        "id": "pb3bXN_sK9ZQ",
        "outputId": "a2c7307a-4a5d-4fc2-8e39-83713b7702a7"
      },
      "execution_count": 31,
      "outputs": [
        {
          "output_type": "stream",
          "name": "stdout",
          "text": [
            "1\n"
          ]
        },
        {
          "output_type": "error",
          "ename": "TypeError",
          "evalue": "'int' object is not callable",
          "traceback": [
            "\u001b[0;31m---------------------------------------------------------------------------\u001b[0m",
            "\u001b[0;31mTypeError\u001b[0m                                 Traceback (most recent call last)",
            "\u001b[0;32m<ipython-input-31-c499797930c0>\u001b[0m in \u001b[0;36m<cell line: 0>\u001b[0;34m()\u001b[0m\n\u001b[1;32m      2\u001b[0m \u001b[0mprint\u001b[0m\u001b[0;34m(\u001b[0m\u001b[0mmin\u001b[0m\u001b[0;34m)\u001b[0m\u001b[0;34m\u001b[0m\u001b[0;34m\u001b[0m\u001b[0m\n\u001b[1;32m      3\u001b[0m \u001b[0;34m\u001b[0m\u001b[0m\n\u001b[0;32m----> 4\u001b[0;31m \u001b[0mprint\u001b[0m\u001b[0;34m(\u001b[0m\u001b[0mmin\u001b[0m\u001b[0;34m(\u001b[0m\u001b[0;36m1\u001b[0m\u001b[0;34m,\u001b[0m \u001b[0;36m2\u001b[0m\u001b[0;34m,\u001b[0m \u001b[0;36m3\u001b[0m\u001b[0;34m,\u001b[0m \u001b[0;36m4\u001b[0m\u001b[0;34m,\u001b[0m \u001b[0;36m5\u001b[0m\u001b[0;34m)\u001b[0m\u001b[0;34m)\u001b[0m\u001b[0;34m\u001b[0m\u001b[0;34m\u001b[0m\u001b[0m\n\u001b[0m",
            "\u001b[0;31mTypeError\u001b[0m: 'int' object is not callable"
          ]
        }
      ]
    },
    {
      "cell_type": "code",
      "source": [
        "# snake case\n",
        "my_first_snake_case = 132\n",
        "# camel case\n",
        "MyFirstCamelCase = 12343242"
      ],
      "metadata": {
        "id": "lBgwltGHLWH_"
      },
      "execution_count": 33,
      "outputs": []
    },
    {
      "cell_type": "markdown",
      "source": [
        "# 자료형\n",
        "\n",
        "## 숫자형"
      ],
      "metadata": {
        "id": "JznthG2CL36b"
      }
    },
    {
      "cell_type": "code",
      "source": [
        "# Integer(정수), float(실수)\n",
        "\n",
        "a = 1\n",
        "b = 1.0\n",
        "\n",
        "print(\"변수 a의 타입은\", type(a))\n",
        "print(\"변수 b의 타입은\", type(b))"
      ],
      "metadata": {
        "colab": {
          "base_uri": "https://localhost:8080/"
        },
        "id": "1VIljxhFL_oE",
        "outputId": "760d4db0-2f40-4025-f5d4-1ce237d29b4e"
      },
      "execution_count": 35,
      "outputs": [
        {
          "output_type": "stream",
          "name": "stdout",
          "text": [
            "변수 a의 타입은 <class 'int'>\n",
            "변수 b의 타입은 <class 'float'>\n"
          ]
        }
      ]
    },
    {
      "cell_type": "code",
      "source": [
        "# int와 float 연산을 하게 되면 float가 됨\n",
        "\n",
        "c = a + b\n",
        "print(type(c))"
      ],
      "metadata": {
        "colab": {
          "base_uri": "https://localhost:8080/"
        },
        "id": "DR6Gm3XeOa2D",
        "outputId": "854df9d8-a5a4-42ce-b8a5-290880be77fd"
      },
      "execution_count": 36,
      "outputs": [
        {
          "output_type": "stream",
          "name": "stdout",
          "text": [
            "<class 'float'>\n"
          ]
        }
      ]
    },
    {
      "cell_type": "markdown",
      "source": [
        "## 문자열"
      ],
      "metadata": {
        "id": "L99LTBibO1j8"
      }
    },
    {
      "cell_type": "code",
      "source": [
        "string = \"st ring\"\n",
        "string2 = 'string'\n",
        "\n",
        "string3 = \"누군가 '배고프다' 라고 말했다. \"\n",
        "\n",
        "print(string3)"
      ],
      "metadata": {
        "colab": {
          "base_uri": "https://localhost:8080/"
        },
        "id": "97e0iGfpO4_u",
        "outputId": "776c2a93-f57f-49c4-87fb-7cb7eab63618"
      },
      "execution_count": 39,
      "outputs": [
        {
          "output_type": "stream",
          "name": "stdout",
          "text": [
            "누군가 '배고프다' 라고 말했다. \n"
          ]
        }
      ]
    },
    {
      "cell_type": "code",
      "source": [
        "# 독특한 기능을 하는 문자열\n",
        "print(r'\\t는')\n",
        "print('\\t 들여쓰기 기능을 합니다.\\t')\n",
        "\n",
        "print(r'\\n는')\n",
        "print('\\n 줄 바꾸기 \\n 기능을 합니다.')"
      ],
      "metadata": {
        "colab": {
          "base_uri": "https://localhost:8080/"
        },
        "id": "5-NLy5BnPHjl",
        "outputId": "29673472-4747-4c7e-8ece-1243ad920f0a"
      },
      "execution_count": 44,
      "outputs": [
        {
          "output_type": "stream",
          "name": "stdout",
          "text": [
            "\\t는\n",
            "\t 들여쓰기 기능을 합니다.\t\n",
            "\\n는\n",
            "\n",
            " 줄 바꾸기 \n",
            " 기능을 합니다.\n"
          ]
        }
      ]
    },
    {
      "cell_type": "markdown",
      "source": [
        "## Boolean"
      ],
      "metadata": {
        "id": "nCuWWRrzPzcs"
      }
    },
    {
      "cell_type": "code",
      "source": [
        "# 논리형 (True와 False만 취급)\n",
        "\n",
        "a = True   # 1로 인식\n",
        "b = False  # 0으로 인식\n",
        "\n",
        "print(type(a))\n",
        "print(a + b)"
      ],
      "metadata": {
        "colab": {
          "base_uri": "https://localhost:8080/"
        },
        "id": "7EeT58V0P0q4",
        "outputId": "b713e4bc-bbf5-420c-a76a-f0d7a7de59dd"
      },
      "execution_count": 48,
      "outputs": [
        {
          "output_type": "stream",
          "name": "stdout",
          "text": [
            "<class 'bool'>\n",
            "1\n"
          ]
        }
      ]
    },
    {
      "cell_type": "code",
      "source": [],
      "metadata": {
        "id": "0zRVNy3-SKWq"
      },
      "execution_count": null,
      "outputs": []
    }
  ]
}