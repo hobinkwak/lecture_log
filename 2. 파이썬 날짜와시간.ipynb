{
 "cells": [
  {
   "cell_type": "markdown",
   "id": "79747ee0",
   "metadata": {},
   "source": [
    "## datetime"
   ]
  },
  {
   "cell_type": "markdown",
   "id": "0d9fb5c6",
   "metadata": {},
   "source": [
    "**datetime**\n",
    "\n",
    "    1. date\n",
    "    2. datetime\n",
    "    3. timedelta"
   ]
  },
  {
   "cell_type": "code",
   "execution_count": null,
   "id": "e4c4a629",
   "metadata": {
    "ExecuteTime": {
     "end_time": "2021-08-31T09:55:37.606413Z",
     "start_time": "2021-08-31T09:55:37.594280Z"
    }
   },
   "outputs": [],
   "source": [
    "#임포트\n",
    "import datetime"
   ]
  },
  {
   "cell_type": "markdown",
   "id": "50cd89b4",
   "metadata": {},
   "source": [
    "### date"
   ]
  },
  {
   "cell_type": "code",
   "execution_count": null,
   "id": "e7fb622f",
   "metadata": {
    "ExecuteTime": {
     "end_time": "2021-08-31T09:55:37.651020Z",
     "start_time": "2021-08-31T09:55:37.609576Z"
    }
   },
   "outputs": [],
   "source": [
    "date = datetime.date(2021, 8, 2)  #Date 객체\n",
    "\n",
    "#Date객체에서 사용할 수 있는 method와 attribute\n",
    "print(date.today())       \n",
    "print(date.weekday())  #월:0, 화:1 ...\n",
    "print(date.month)"
   ]
  },
  {
   "cell_type": "code",
   "execution_count": null,
   "id": "dbdef49e",
   "metadata": {
    "ExecuteTime": {
     "end_time": "2021-08-31T09:55:37.665826Z",
     "start_time": "2021-08-31T09:55:37.652856Z"
    }
   },
   "outputs": [],
   "source": [
    "# date의 100일 전 날짜의 요일은?\n",
    "(date - datetime.timedelta(days=100)).weekday()"
   ]
  },
  {
   "cell_type": "markdown",
   "id": "9eca2bcc",
   "metadata": {},
   "source": [
    "### datetime"
   ]
  },
  {
   "cell_type": "code",
   "execution_count": null,
   "id": "20756881",
   "metadata": {
    "ExecuteTime": {
     "end_time": "2021-08-31T09:55:37.680781Z",
     "start_time": "2021-08-31T09:55:37.669811Z"
    }
   },
   "outputs": [],
   "source": [
    "dt = datetime.datetime(2021, 8, 2, 13, 40, 20)\n",
    "\n",
    "# datetime객체에서 뺄 수 있는 attribute\n",
    "# date객체에서도 뺄 수 있습니다\n",
    "dt.year, dt.month, dt.day, dt.hour"
   ]
  },
  {
   "cell_type": "markdown",
   "id": "91024638",
   "metadata": {},
   "source": [
    "\n",
    "## pandas - datetime"
   ]
  },
  {
   "cell_type": "markdown",
   "id": "bc3a1009",
   "metadata": {},
   "source": [
    "1. TimeStamp / DatetimeIndex\n",
    "\n",
    "2. Period / PeriodIndex"
   ]
  },
  {
   "cell_type": "code",
   "execution_count": null,
   "id": "dd2a27c4",
   "metadata": {
    "ExecuteTime": {
     "end_time": "2021-08-31T09:55:37.695742Z",
     "start_time": "2021-08-31T09:55:37.686782Z"
    }
   },
   "outputs": [],
   "source": [
    "#혹시 설치되어 있지 않은 분들은\n",
    "#!pip install pandas  <- 요거 실행 (# 주석지우기)\n",
    "import pandas as pd"
   ]
  },
  {
   "cell_type": "markdown",
   "id": "80da2480",
   "metadata": {},
   "source": [
    "### timestamp"
   ]
  },
  {
   "cell_type": "code",
   "execution_count": null,
   "id": "e755dc35",
   "metadata": {
    "ExecuteTime": {
     "end_time": "2021-08-31T09:55:37.710700Z",
     "start_time": "2021-08-31T09:55:37.699731Z"
    }
   },
   "outputs": [],
   "source": [
    "# timestamp에는 문자열을 넣을 수도, 인자값을 분해해서 넣을 수도 있습니다.\n",
    "date = pd.Timestamp('2021-08-02')\n",
    "date = pd.Timestamp(2021, 8, 2)"
   ]
  },
  {
   "cell_type": "code",
   "execution_count": null,
   "id": "a0f1ca1e",
   "metadata": {
    "ExecuteTime": {
     "end_time": "2021-08-31T09:55:37.725661Z",
     "start_time": "2021-08-31T09:55:37.715696Z"
    }
   },
   "outputs": [],
   "source": [
    "# to_datetime을 사용하면 복수의 날짜 string을 각각은 timestamp로, 둘을 묶어 datetimeindex로 만들어줍니다.\n",
    "date = pd.to_datetime(['2021-08-02', '2021-08-03'])\n",
    "date"
   ]
  },
  {
   "cell_type": "code",
   "execution_count": null,
   "id": "87b0bfa2",
   "metadata": {
    "ExecuteTime": {
     "end_time": "2021-08-31T09:55:37.755582Z",
     "start_time": "2021-08-31T09:55:37.729733Z"
    }
   },
   "outputs": [],
   "source": [
    "print('월말',  pd.date_range('2021-03', '2021-08', freq='M'))\n",
    "print('월초',  pd.date_range('2021-03', '2021-08', freq='MS'))"
   ]
  },
  {
   "cell_type": "code",
   "execution_count": null,
   "id": "9e635e6d",
   "metadata": {
    "ExecuteTime": {
     "end_time": "2021-08-31T09:55:37.770542Z",
     "start_time": "2021-08-31T09:55:37.757576Z"
    }
   },
   "outputs": [],
   "source": [
    "print('8월',  pd.date_range('2021-08-01', '2021-08-31', freq='D'))"
   ]
  },
  {
   "cell_type": "markdown",
   "id": "a89791c8",
   "metadata": {},
   "source": [
    "### Period"
   ]
  },
  {
   "cell_type": "code",
   "execution_count": null,
   "id": "5481bb2c",
   "metadata": {
    "ExecuteTime": {
     "end_time": "2021-08-31T09:55:37.785501Z",
     "start_time": "2021-08-31T09:55:37.771538Z"
    }
   },
   "outputs": [],
   "source": [
    "pd.Period('2021-08', freq='M')"
   ]
  },
  {
   "cell_type": "code",
   "execution_count": null,
   "id": "a21606cd",
   "metadata": {
    "ExecuteTime": {
     "end_time": "2021-08-31T09:55:37.800463Z",
     "start_time": "2021-08-31T09:55:37.788495Z"
    }
   },
   "outputs": [],
   "source": [
    "pd.period_range('2021-03','2021-08', freq='M')"
   ]
  },
  {
   "cell_type": "markdown",
   "id": "32f63b54",
   "metadata": {},
   "source": [
    "### timestamp와 period"
   ]
  },
  {
   "cell_type": "code",
   "execution_count": null,
   "id": "9f12ca1a",
   "metadata": {
    "ExecuteTime": {
     "end_time": "2021-08-31T09:55:37.815421Z",
     "start_time": "2021-08-31T09:55:37.802456Z"
    }
   },
   "outputs": [],
   "source": [
    "p = pd.Period('2021-8', freq='M')\n",
    "stamp = pd.to_datetime('2021-8-2')"
   ]
  },
  {
   "cell_type": "code",
   "execution_count": null,
   "id": "ae45924d",
   "metadata": {
    "ExecuteTime": {
     "end_time": "2021-08-31T09:55:37.830382Z",
     "start_time": "2021-08-31T09:55:37.817416Z"
    }
   },
   "outputs": [],
   "source": [
    "p.start_time < stamp < p.end_time"
   ]
  }
 ],
 "metadata": {
  "hide_input": false,
  "kernelspec": {
   "display_name": "Python 3",
   "language": "python",
   "name": "python3"
  },
  "language_info": {
   "codemirror_mode": {
    "name": "ipython",
    "version": 3
   },
   "file_extension": ".py",
   "mimetype": "text/x-python",
   "name": "python",
   "nbconvert_exporter": "python",
   "pygments_lexer": "ipython3",
   "version": "3.8.5"
  },
  "toc": {
   "base_numbering": 1,
   "nav_menu": {},
   "number_sections": true,
   "sideBar": true,
   "skip_h1_title": false,
   "title_cell": "Table of Contents",
   "title_sidebar": "Contents",
   "toc_cell": false,
   "toc_position": {},
   "toc_section_display": true,
   "toc_window_display": false
  },
  "varInspector": {
   "cols": {
    "lenName": 16,
    "lenType": 16,
    "lenVar": 40
   },
   "kernels_config": {
    "python": {
     "delete_cmd_postfix": "",
     "delete_cmd_prefix": "del ",
     "library": "var_list.py",
     "varRefreshCmd": "print(var_dic_list())"
    },
    "r": {
     "delete_cmd_postfix": ") ",
     "delete_cmd_prefix": "rm(",
     "library": "var_list.r",
     "varRefreshCmd": "cat(var_dic_list()) "
    }
   },
   "types_to_exclude": [
    "module",
    "function",
    "builtin_function_or_method",
    "instance",
    "_Feature"
   ],
   "window_display": false
  }
 },
 "nbformat": 4,
 "nbformat_minor": 5
}
