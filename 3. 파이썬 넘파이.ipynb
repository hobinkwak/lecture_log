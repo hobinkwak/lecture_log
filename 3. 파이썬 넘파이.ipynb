{
 "cells": [
  {
   "cell_type": "markdown",
   "id": "9475194d",
   "metadata": {},
   "source": [
    "# Numpy"
   ]
  },
  {
   "cell_type": "markdown",
   "id": "b0e80376",
   "metadata": {},
   "source": [
    "1. 행렬연산을 빠르게\n",
    "2. 데이터 생성, 수정 등등"
   ]
  },
  {
   "cell_type": "markdown",
   "id": "67adb158",
   "metadata": {},
   "source": [
    "## Array\n",
    "\n",
    "- array\n",
    "- ndim, shape\n",
    "- reshape\n",
    "- masking\n",
    "- arange\n",
    "- astype"
   ]
  },
  {
   "cell_type": "markdown",
   "id": "2877744b",
   "metadata": {},
   "source": [
    "### array"
   ]
  },
  {
   "cell_type": "code",
   "execution_count": null,
   "id": "3e06d1e5",
   "metadata": {
    "ExecuteTime": {
     "end_time": "2021-08-31T09:55:41.026786Z",
     "start_time": "2021-08-31T09:55:41.001622Z"
    }
   },
   "outputs": [],
   "source": [
    "arr = np.array(\n",
    "    [[1, 2, 3],\n",
    "     [4, 5, 6]])\n",
    "\n",
    "#print(arr)\n",
    "#print(arr.ndim, arr.shape)\n",
    "\n",
    "#reshape 메서드\n",
    "arr2 = arr.reshape(1, 6)\n",
    "arr2"
   ]
  },
  {
   "cell_type": "code",
   "execution_count": null,
   "id": "b2d0978c",
   "metadata": {
    "ExecuteTime": {
     "end_time": "2021-08-31T09:55:41.071513Z",
     "start_time": "2021-08-31T09:55:41.030264Z"
    }
   },
   "outputs": [],
   "source": [
    "#array 슬라이싱\n",
    "arr[0, 1:]"
   ]
  },
  {
   "cell_type": "code",
   "execution_count": null,
   "id": "1c78adef",
   "metadata": {
    "ExecuteTime": {
     "end_time": "2021-08-31T09:55:41.086505Z",
     "start_time": "2021-08-31T09:55:41.074506Z"
    }
   },
   "outputs": [],
   "source": [
    "arr[0, 0] = 5"
   ]
  },
  {
   "cell_type": "code",
   "execution_count": null,
   "id": "4e11b91a",
   "metadata": {
    "ExecuteTime": {
     "end_time": "2021-08-31T09:55:41.101433Z",
     "start_time": "2021-08-31T09:55:41.089465Z"
    }
   },
   "outputs": [],
   "source": [
    "#array 값 수정\n",
    "arr[1, :] = np.array([5,6,7])\n",
    "arr"
   ]
  },
  {
   "cell_type": "code",
   "execution_count": null,
   "id": "994a66cc",
   "metadata": {
    "ExecuteTime": {
     "end_time": "2021-08-31T09:55:41.116395Z",
     "start_time": "2021-08-31T09:55:41.103427Z"
    }
   },
   "outputs": [],
   "source": [
    "#np.arange 함수\n",
    "np.arange(0, 10, 2)"
   ]
  },
  {
   "cell_type": "code",
   "execution_count": null,
   "id": "28ac4490",
   "metadata": {
    "ExecuteTime": {
     "end_time": "2021-08-31T09:55:41.131353Z",
     "start_time": "2021-08-31T09:55:41.118389Z"
    }
   },
   "outputs": [],
   "source": [
    "#astype 메서드\n",
    "arr.astype(np.float32)"
   ]
  },
  {
   "cell_type": "markdown",
   "id": "d804d044",
   "metadata": {},
   "source": [
    "## where"
   ]
  },
  {
   "cell_type": "markdown",
   "id": "40b330e4",
   "metadata": {},
   "source": [
    "- np.where( 조건 )"
   ]
  },
  {
   "cell_type": "code",
   "execution_count": null,
   "id": "b1fa7419",
   "metadata": {
    "ExecuteTime": {
     "end_time": "2021-08-31T09:55:41.146314Z",
     "start_time": "2021-08-31T09:55:41.134345Z"
    }
   },
   "outputs": [],
   "source": [
    "arr"
   ]
  },
  {
   "cell_type": "code",
   "execution_count": null,
   "id": "b60f0149",
   "metadata": {
    "ExecuteTime": {
     "end_time": "2021-08-31T09:55:41.161372Z",
     "start_time": "2021-08-31T09:55:41.148308Z"
    }
   },
   "outputs": [],
   "source": [
    "arr[np.where(arr > 4)]"
   ]
  },
  {
   "cell_type": "code",
   "execution_count": null,
   "id": "a231efd4",
   "metadata": {
    "ExecuteTime": {
     "end_time": "2021-08-31T09:55:41.176233Z",
     "start_time": "2021-08-31T09:55:41.163268Z"
    }
   },
   "outputs": [],
   "source": [
    "arr[np.where(arr % 3 == 0)]"
   ]
  },
  {
   "cell_type": "markdown",
   "id": "8bfa951a",
   "metadata": {},
   "source": [
    "- np.where( 조건, value1 if true, value2 if not true)"
   ]
  },
  {
   "cell_type": "code",
   "execution_count": null,
   "id": "accc80a9",
   "metadata": {
    "ExecuteTime": {
     "end_time": "2021-08-31T09:55:41.191244Z",
     "start_time": "2021-08-31T09:55:41.177230Z"
    }
   },
   "outputs": [],
   "source": [
    "np.where(arr > 5, 1, 0)"
   ]
  },
  {
   "cell_type": "markdown",
   "id": "270474e1",
   "metadata": {},
   "source": [
    "## 행렬 생성"
   ]
  },
  {
   "cell_type": "markdown",
   "id": "1423a3b5",
   "metadata": {},
   "source": [
    "- ones, zeros\n",
    "- transpose\n",
    "- diag\n",
    "- eye / identity\n",
    "- linspace / logspace"
   ]
  },
  {
   "cell_type": "code",
   "execution_count": null,
   "id": "96555b45",
   "metadata": {
    "ExecuteTime": {
     "end_time": "2021-08-31T09:55:41.206183Z",
     "start_time": "2021-08-31T09:55:41.193187Z"
    }
   },
   "outputs": [],
   "source": [
    "#np.ones\n",
    "np.ones(shape=(3,3))"
   ]
  },
  {
   "cell_type": "code",
   "execution_count": null,
   "id": "7943d20e",
   "metadata": {
    "ExecuteTime": {
     "end_time": "2021-08-31T09:55:41.221138Z",
     "start_time": "2021-08-31T09:55:41.208665Z"
    }
   },
   "outputs": [],
   "source": [
    "#np.zeros\n",
    "np.zeros((2,2))"
   ]
  },
  {
   "cell_type": "code",
   "execution_count": null,
   "id": "d9bb85cd",
   "metadata": {
    "ExecuteTime": {
     "end_time": "2021-08-31T09:55:41.236116Z",
     "start_time": "2021-08-31T09:55:41.222434Z"
    }
   },
   "outputs": [],
   "source": [
    "#transpose\n",
    "arr = np.arange(1, 10).reshape(3,3)\n",
    "print(\"Before\")\n",
    "print(arr)\n",
    "print(\"After\")\n",
    "print(np.transpose(arr))\n",
    "arr.T"
   ]
  },
  {
   "cell_type": "code",
   "execution_count": null,
   "id": "5f81854f",
   "metadata": {
    "ExecuteTime": {
     "end_time": "2021-08-31T09:55:41.251078Z",
     "start_time": "2021-08-31T09:55:41.238068Z"
    }
   },
   "outputs": [],
   "source": [
    "#np.diag : 대각성분\n",
    "np.diag(arr)"
   ]
  },
  {
   "cell_type": "code",
   "execution_count": null,
   "id": "c7af835d",
   "metadata": {
    "ExecuteTime": {
     "end_time": "2021-08-31T09:55:41.265993Z",
     "start_time": "2021-08-31T09:55:41.253028Z"
    }
   },
   "outputs": [],
   "source": [
    "#np.eye : 항등행렬\n",
    "np.eye(3,3)"
   ]
  },
  {
   "cell_type": "code",
   "execution_count": null,
   "id": "ffcbdeac",
   "metadata": {
    "ExecuteTime": {
     "end_time": "2021-08-31T09:55:41.280964Z",
     "start_time": "2021-08-31T09:55:41.267988Z"
    }
   },
   "outputs": [],
   "source": [
    "#np.identity : 항등행렬\n",
    "np.identity(3)"
   ]
  },
  {
   "cell_type": "code",
   "execution_count": null,
   "id": "9ed34ecd",
   "metadata": {
    "ExecuteTime": {
     "end_time": "2021-08-31T09:55:41.295912Z",
     "start_time": "2021-08-31T09:55:41.282948Z"
    }
   },
   "outputs": [],
   "source": [
    "#np.linspace\n",
    "np.linspace(1, 10, 20)"
   ]
  },
  {
   "cell_type": "code",
   "execution_count": null,
   "id": "8be3af3b",
   "metadata": {
    "ExecuteTime": {
     "end_time": "2021-08-31T09:55:41.310873Z",
     "start_time": "2021-08-31T09:55:41.296912Z"
    }
   },
   "outputs": [],
   "source": [
    "#np.logspace\n",
    "np.logspace(1, 3, 10)\n",
    "np.logspace(np.log10(1), np.log10(3), 10).reshape(5,2)"
   ]
  },
  {
   "cell_type": "markdown",
   "id": "af39cbcc",
   "metadata": {},
   "source": [
    "## 행렬연산\n",
    "\n",
    "- 행렬 덧셈, 뺄셈\n",
    "- 행렬 곱셈\n",
    "- 역행렬"
   ]
  },
  {
   "cell_type": "markdown",
   "id": "8a1df390",
   "metadata": {},
   "source": [
    "$\\textbf{Ax} = \\textbf{b}$\n",
    "\n",
    "$\\textbf{x} = \\textbf{A}^{-1}\\textbf{b}$"
   ]
  },
  {
   "cell_type": "code",
   "execution_count": null,
   "id": "e519eb85",
   "metadata": {
    "ExecuteTime": {
     "end_time": "2021-08-31T09:55:41.325832Z",
     "start_time": "2021-08-31T09:55:41.312869Z"
    }
   },
   "outputs": [],
   "source": [
    "arr1 = np.arange(1,5).reshape(2,2)\n",
    "arr2 = np.arange(5,9).reshape(2,2)\n",
    "\n",
    "arr1 @ arr2\n",
    "\n",
    "np.linalg.inv(arr1) @ arr1"
   ]
  },
  {
   "cell_type": "code",
   "execution_count": null,
   "id": "a7401a80",
   "metadata": {
    "ExecuteTime": {
     "end_time": "2021-08-31T09:55:41.340855Z",
     "start_time": "2021-08-31T09:55:41.327829Z"
    }
   },
   "outputs": [],
   "source": [
    "A = np.arange(1,5).reshape(2,2)\n",
    "b = np.arange(1,3).reshape(2,)\n",
    "A, b"
   ]
  },
  {
   "cell_type": "markdown",
   "id": "60637b19",
   "metadata": {},
   "source": [
    "## random"
   ]
  },
  {
   "cell_type": "markdown",
   "id": "804a8fb1",
   "metadata": {},
   "source": [
    "- seed\n",
    "- rand / randn / randint\n",
    "- choice / shuffle\n",
    "- uniform, normal"
   ]
  },
  {
   "cell_type": "code",
   "execution_count": null,
   "id": "5f096d37",
   "metadata": {
    "ExecuteTime": {
     "end_time": "2021-08-31T09:55:41.355752Z",
     "start_time": "2021-08-31T09:55:41.342789Z"
    }
   },
   "outputs": [],
   "source": [
    "np.random.seed(300)\n",
    "\n",
    "#rand : 0부터 1사이의 값을 random하게\n",
    "np.random.rand()\n",
    "\n",
    "#randn : 표준정규분포 가정 (mean : 0 , std : 1)\n",
    "np.random.randn()\n",
    "\n",
    "#randint : 랜덤하게 정수값 생성\n",
    "np.random.randint(10, 20, size=(2,2))\n",
    "\n",
    "#uniform : 균등분포\n",
    "np.random.uniform(0, 10, size=(3,3))\n",
    "\n",
    "#normal : 정규분포\n",
    "np.random.normal(loc=5, scale=1, size=(2,2))\n",
    "\n",
    "#choice\n",
    "np.random.choice(np.random.randint(1, 10, size=5), size=3, replace=False)\n",
    "\n",
    "#shuffle\n",
    "arr = np.arange(1,10).reshape(3,3)\n",
    "print(arr)\n",
    "np.random.shuffle(arr)\n",
    "arr"
   ]
  },
  {
   "cell_type": "markdown",
   "id": "6fc532ca",
   "metadata": {},
   "source": [
    "## count"
   ]
  },
  {
   "cell_type": "markdown",
   "id": "a0ce8615",
   "metadata": {},
   "source": [
    "- unique\n",
    "- bincount"
   ]
  },
  {
   "cell_type": "code",
   "execution_count": null,
   "id": "15358712",
   "metadata": {
    "ExecuteTime": {
     "end_time": "2021-08-31T09:55:41.370496Z",
     "start_time": "2021-08-31T09:55:41.358750Z"
    }
   },
   "outputs": [],
   "source": [
    "arr = np.random.randint(0, 5, size=10)\n",
    "arr"
   ]
  },
  {
   "cell_type": "code",
   "execution_count": null,
   "id": "2d7fb1c0",
   "metadata": {
    "ExecuteTime": {
     "end_time": "2021-08-31T09:55:41.385699Z",
     "start_time": "2021-08-31T09:55:41.371854Z"
    }
   },
   "outputs": [],
   "source": [
    "# unique함수\n",
    "np.unique(arr, return_counts=True)"
   ]
  },
  {
   "cell_type": "code",
   "execution_count": null,
   "id": "b8691326",
   "metadata": {
    "ExecuteTime": {
     "end_time": "2021-08-31T09:55:41.400659Z",
     "start_time": "2021-08-31T09:55:41.387668Z"
    }
   },
   "outputs": [],
   "source": [
    "# bincount함수\n",
    "np.bincount(arr)"
   ]
  },
  {
   "cell_type": "markdown",
   "id": "8993ff4f",
   "metadata": {},
   "source": [
    "## 결합"
   ]
  },
  {
   "cell_type": "markdown",
   "id": "1b09269d",
   "metadata": {},
   "source": [
    "- concatenate\n",
    "- vstack\n",
    "- hstack"
   ]
  },
  {
   "cell_type": "code",
   "execution_count": null,
   "id": "c1822137",
   "metadata": {
    "ExecuteTime": {
     "end_time": "2021-08-31T09:55:41.415620Z",
     "start_time": "2021-08-31T09:55:41.401631Z"
    }
   },
   "outputs": [],
   "source": [
    "arr1 = np.random.randint(1, 10, size=(2,4))\n",
    "arr2 = np.random.randint(1, 10, size=(2,4))\n",
    "arr3 = np.random.randint(1, 10, size=(2,4))\n",
    "arr1, arr2, arr3"
   ]
  },
  {
   "cell_type": "code",
   "execution_count": null,
   "id": "41aab6f0",
   "metadata": {
    "ExecuteTime": {
     "end_time": "2021-08-31T09:55:41.430553Z",
     "start_time": "2021-08-31T09:55:41.416591Z"
    }
   },
   "outputs": [],
   "source": [
    "#np.concatenate\n",
    "np.concatenate([arr1, arr2, arr3], axis=1)"
   ]
  },
  {
   "cell_type": "code",
   "execution_count": null,
   "id": "ee75521c",
   "metadata": {
    "ExecuteTime": {
     "end_time": "2021-08-31T09:55:41.446569Z",
     "start_time": "2021-08-31T09:55:41.432549Z"
    }
   },
   "outputs": [],
   "source": [
    "#np.vstack\n",
    "np.vstack([arr1, arr2, arr3])"
   ]
  },
  {
   "cell_type": "code",
   "execution_count": null,
   "id": "d606a8ce",
   "metadata": {
    "ExecuteTime": {
     "end_time": "2021-08-31T09:55:41.461470Z",
     "start_time": "2021-08-31T09:55:41.447509Z"
    }
   },
   "outputs": [],
   "source": [
    "#np.hstack\n",
    "np.hstack([arr1, arr2, arr3])"
   ]
  },
  {
   "cell_type": "markdown",
   "id": "41e80028",
   "metadata": {},
   "source": [
    "## ravel / flatten / squeeze"
   ]
  },
  {
   "cell_type": "code",
   "execution_count": null,
   "id": "ac20cfb5",
   "metadata": {
    "ExecuteTime": {
     "end_time": "2021-08-31T09:55:41.476503Z",
     "start_time": "2021-08-31T09:55:41.464463Z"
    }
   },
   "outputs": [],
   "source": [
    "arr = np.arange(1, 10).reshape(3,3, 1)\n",
    "print(arr)\n",
    "#flatten\n",
    "print(arr.flatten())\n",
    "#ravel\n",
    "print(arr.ravel())"
   ]
  },
  {
   "cell_type": "code",
   "execution_count": null,
   "id": "d5a7c597",
   "metadata": {
    "ExecuteTime": {
     "end_time": "2021-08-31T09:55:41.492437Z",
     "start_time": "2021-08-31T09:55:41.478426Z"
    }
   },
   "outputs": [],
   "source": [
    "# np.squeeze()\n",
    "print(np.squeeze(arr))\n",
    "print()\n",
    "print(arr.shape)\n",
    "np.squeeze(arr).shape"
   ]
  },
  {
   "cell_type": "markdown",
   "id": "5be015ec",
   "metadata": {},
   "source": [
    "## 저장과 불러오기"
   ]
  },
  {
   "cell_type": "code",
   "execution_count": null,
   "id": "445c5a37",
   "metadata": {
    "ExecuteTime": {
     "end_time": "2021-08-31T09:55:41.507383Z",
     "start_time": "2021-08-31T09:55:41.494386Z"
    }
   },
   "outputs": [],
   "source": [
    "arr = arr.reshape(3,3)\n",
    "arr"
   ]
  },
  {
   "cell_type": "code",
   "execution_count": null,
   "id": "82ebc19b",
   "metadata": {
    "ExecuteTime": {
     "end_time": "2021-08-31T09:55:41.522441Z",
     "start_time": "2021-08-31T09:55:41.509342Z"
    }
   },
   "outputs": [],
   "source": [
    "#저장하기\n",
    "np.save('first_npy.npy', arr)"
   ]
  },
  {
   "cell_type": "code",
   "execution_count": null,
   "id": "7069024c",
   "metadata": {
    "ExecuteTime": {
     "end_time": "2021-08-31T09:55:41.552397Z",
     "start_time": "2021-08-31T09:55:41.525300Z"
    }
   },
   "outputs": [],
   "source": [
    "#불러오기\n",
    "brr = np.load('first_npy.npy')\n",
    "brr"
   ]
  }
 ],
 "metadata": {
  "hide_input": false,
  "kernelspec": {
   "display_name": "Python 3",
   "language": "python",
   "name": "python3"
  },
  "language_info": {
   "codemirror_mode": {
    "name": "ipython",
    "version": 3
   },
   "file_extension": ".py",
   "mimetype": "text/x-python",
   "name": "python",
   "nbconvert_exporter": "python",
   "pygments_lexer": "ipython3",
   "version": "3.8.5"
  },
  "toc": {
   "base_numbering": 1,
   "nav_menu": {},
   "number_sections": true,
   "sideBar": true,
   "skip_h1_title": false,
   "title_cell": "Table of Contents",
   "title_sidebar": "Contents",
   "toc_cell": false,
   "toc_position": {},
   "toc_section_display": true,
   "toc_window_display": false
  },
  "varInspector": {
   "cols": {
    "lenName": 16,
    "lenType": 16,
    "lenVar": 40
   },
   "kernels_config": {
    "python": {
     "delete_cmd_postfix": "",
     "delete_cmd_prefix": "del ",
     "library": "var_list.py",
     "varRefreshCmd": "print(var_dic_list())"
    },
    "r": {
     "delete_cmd_postfix": ") ",
     "delete_cmd_prefix": "rm(",
     "library": "var_list.r",
     "varRefreshCmd": "cat(var_dic_list()) "
    }
   },
   "types_to_exclude": [
    "module",
    "function",
    "builtin_function_or_method",
    "instance",
    "_Feature"
   ],
   "window_display": false
  }
 },
 "nbformat": 4,
 "nbformat_minor": 5
}
