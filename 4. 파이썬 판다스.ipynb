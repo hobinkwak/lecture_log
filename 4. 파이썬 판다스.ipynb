{
 "cells": [
  {
   "cell_type": "markdown",
   "id": "11511e82",
   "metadata": {},
   "source": [
    "# Pandas"
   ]
  },
  {
   "cell_type": "markdown",
   "id": "5f34790f",
   "metadata": {},
   "source": [
    "1. numpy로 구성\n",
    "2. Series와 DataFrame"
   ]
  },
  {
   "cell_type": "markdown",
   "id": "071c7831",
   "metadata": {},
   "source": [
    "## 데이터 가져오기"
   ]
  },
  {
   "cell_type": "code",
   "execution_count": null,
   "id": "f44a6705",
   "metadata": {
    "ExecuteTime": {
     "end_time": "2021-08-31T09:55:44.106308Z",
     "start_time": "2021-08-31T09:55:44.078354Z"
    }
   },
   "outputs": [],
   "source": [
    "#read_csv\n",
    "import pandas as pd\n",
    "df = pd.read_csv('data/kospi.csv')\n",
    "\n",
    "#dataframe은 index, columns 그리고 values로 구성되어 있다\n",
    "\n",
    "print(df.index)\n",
    "print(df.columns)\n",
    "print(df.values)"
   ]
  },
  {
   "cell_type": "markdown",
   "id": "337e814a",
   "metadata": {},
   "source": [
    "## 데이터 확인\n",
    "- head / tail\n",
    "- describe / info\n",
    "- value_counts \n",
    "- unique / nunique"
   ]
  },
  {
   "cell_type": "markdown",
   "id": "1fe3911c",
   "metadata": {},
   "source": [
    "### Head/Tail"
   ]
  },
  {
   "cell_type": "code",
   "execution_count": null,
   "id": "bbde05fa",
   "metadata": {
    "ExecuteTime": {
     "end_time": "2021-08-31T09:55:44.166520Z",
     "start_time": "2021-08-31T09:55:44.108336Z"
    }
   },
   "outputs": [],
   "source": [
    "#df.head()\n",
    "display(df.head())\n",
    "\n",
    "#df.tail()\n",
    "display(df.tail())"
   ]
  },
  {
   "cell_type": "markdown",
   "id": "a5237dd5",
   "metadata": {},
   "source": [
    "### describe/info"
   ]
  },
  {
   "cell_type": "code",
   "execution_count": null,
   "id": "a386489c",
   "metadata": {
    "ExecuteTime": {
     "end_time": "2021-08-31T09:55:44.211345Z",
     "start_time": "2021-08-31T09:55:44.168546Z"
    }
   },
   "outputs": [],
   "source": [
    "# describe, info\n",
    "display(df.describe())\n",
    "display(df.info())"
   ]
  },
  {
   "cell_type": "markdown",
   "id": "49107b72",
   "metadata": {},
   "source": [
    "- 타이타닉 데이터 가져오기 (Seaborn 사용)"
   ]
  },
  {
   "cell_type": "code",
   "execution_count": null,
   "id": "4ef2a624",
   "metadata": {
    "ExecuteTime": {
     "end_time": "2021-08-31T09:55:45.918951Z",
     "start_time": "2021-08-31T09:55:44.212322Z"
    }
   },
   "outputs": [],
   "source": [
    "!pip install seaborn  #seaborn 설치"
   ]
  },
  {
   "cell_type": "code",
   "execution_count": null,
   "id": "e3e820a6",
   "metadata": {
    "ExecuteTime": {
     "end_time": "2021-08-31T09:55:45.978857Z",
     "start_time": "2021-08-31T09:55:45.919949Z"
    }
   },
   "outputs": [],
   "source": [
    "import seaborn as sns \n",
    "df2 = sns.load_dataset('titanic')\n",
    "display(df2.head())\n",
    "\n",
    "\n",
    "# include = 'all', include=None\n",
    "display(df2.describe(include='O'))  "
   ]
  },
  {
   "cell_type": "markdown",
   "id": "292b7194",
   "metadata": {},
   "source": [
    "### value_counts / unique"
   ]
  },
  {
   "cell_type": "code",
   "execution_count": null,
   "id": "2b8eae82",
   "metadata": {
    "ExecuteTime": {
     "end_time": "2021-08-31T09:55:45.993752Z",
     "start_time": "2021-08-31T09:55:45.980787Z"
    }
   },
   "outputs": [],
   "source": [
    "#value_counts()\n",
    "df2['sex'].value_counts()"
   ]
  },
  {
   "cell_type": "code",
   "execution_count": null,
   "id": "f03fd992",
   "metadata": {
    "ExecuteTime": {
     "end_time": "2021-08-31T09:55:46.008827Z",
     "start_time": "2021-08-31T09:55:45.998767Z"
    }
   },
   "outputs": [],
   "source": [
    "#unique()\n",
    "print(df2['sex'].unique())\n",
    "print(df2['sex'].nunique())"
   ]
  },
  {
   "cell_type": "markdown",
   "id": "bb6aecc3",
   "metadata": {},
   "source": [
    "## DataFrame 선택\n",
    "- loc\n",
    "- iloc\n",
    "- 칼럼\n",
    "- isin()"
   ]
  },
  {
   "cell_type": "markdown",
   "id": "c2ba40ff",
   "metadata": {},
   "source": [
    "### loc / iloc"
   ]
  },
  {
   "cell_type": "code",
   "execution_count": null,
   "id": "14553f0e",
   "metadata": {
    "ExecuteTime": {
     "end_time": "2021-08-31T09:55:46.038655Z",
     "start_time": "2021-08-31T09:55:46.011726Z"
    }
   },
   "outputs": [],
   "source": [
    "#인덱스기준\n",
    "df.loc[0:10, ['Date','Close']]"
   ]
  },
  {
   "cell_type": "code",
   "execution_count": null,
   "id": "e94c7412",
   "metadata": {
    "ExecuteTime": {
     "end_time": "2021-08-31T09:55:46.068663Z",
     "start_time": "2021-08-31T09:55:46.041625Z"
    }
   },
   "outputs": [],
   "source": [
    "#인덱스의 wording을 무시\n",
    "df.iloc[0:10, [0, 2]]"
   ]
  },
  {
   "cell_type": "markdown",
   "id": "3cd2d5e0",
   "metadata": {},
   "source": [
    "### column접근"
   ]
  },
  {
   "cell_type": "code",
   "execution_count": null,
   "id": "8c962233",
   "metadata": {
    "ExecuteTime": {
     "end_time": "2021-08-31T09:55:46.083513Z",
     "start_time": "2021-08-31T09:55:46.071730Z"
    }
   },
   "outputs": [],
   "source": [
    "#column에 접근하기\n",
    "df['Close']\n",
    "df.Open"
   ]
  },
  {
   "cell_type": "code",
   "execution_count": null,
   "id": "e7e352db",
   "metadata": {
    "ExecuteTime": {
     "end_time": "2021-08-31T09:55:46.113432Z",
     "start_time": "2021-08-31T09:55:46.087504Z"
    }
   },
   "outputs": [],
   "source": [
    "#하나의 Column을 dataframe으로 접근하기\n",
    "df[['Volume']]"
   ]
  },
  {
   "cell_type": "code",
   "execution_count": null,
   "id": "164f69ff",
   "metadata": {
    "ExecuteTime": {
     "end_time": "2021-08-31T09:55:46.143353Z",
     "start_time": "2021-08-31T09:55:46.116425Z"
    }
   },
   "outputs": [],
   "source": [
    "#복수의 COlumn에 대해 접근하기\n",
    "df[['Volume','Date','Close']]"
   ]
  },
  {
   "cell_type": "markdown",
   "id": "074c3a45",
   "metadata": {},
   "source": [
    "### isin() 메서드"
   ]
  },
  {
   "cell_type": "code",
   "execution_count": null,
   "id": "d78133e3",
   "metadata": {
    "ExecuteTime": {
     "end_time": "2021-08-31T09:55:46.188675Z",
     "start_time": "2021-08-31T09:55:46.147342Z"
    }
   },
   "outputs": [],
   "source": [
    "#isin()\n",
    "\n",
    "df3 = df2[['pclass','sex','class','who','alive']]\n",
    "df3.loc[df3['pclass'].isin([1])]"
   ]
  },
  {
   "cell_type": "markdown",
   "id": "574bc2e0",
   "metadata": {},
   "source": [
    "## index/Column 수정 _ 행열삭제 _ rename"
   ]
  },
  {
   "cell_type": "markdown",
   "id": "b54a7f84",
   "metadata": {},
   "source": [
    "- set/reset_index\n",
    "- drop\n",
    "- rename"
   ]
  },
  {
   "cell_type": "markdown",
   "id": "b5422073",
   "metadata": {},
   "source": [
    "### set/reset_index"
   ]
  },
  {
   "cell_type": "code",
   "execution_count": null,
   "id": "d18c62ba",
   "metadata": {
    "ExecuteTime": {
     "end_time": "2021-08-31T09:55:46.218565Z",
     "start_time": "2021-08-31T09:55:46.191642Z"
    }
   },
   "outputs": [],
   "source": [
    "df.set_index(['Date']).reset_index()"
   ]
  },
  {
   "cell_type": "markdown",
   "id": "afc81e8e",
   "metadata": {},
   "source": [
    "### drop"
   ]
  },
  {
   "cell_type": "code",
   "execution_count": null,
   "id": "6d13479e",
   "metadata": {
    "ExecuteTime": {
     "end_time": "2021-08-31T09:55:46.248486Z",
     "start_time": "2021-08-31T09:55:46.220562Z"
    }
   },
   "outputs": [],
   "source": [
    "df.drop(['Open','High','Low'], axis=1)"
   ]
  },
  {
   "cell_type": "markdown",
   "id": "a31e899a",
   "metadata": {},
   "source": [
    "### rename"
   ]
  },
  {
   "cell_type": "code",
   "execution_count": null,
   "id": "96259c22",
   "metadata": {
    "ExecuteTime": {
     "end_time": "2021-08-31T09:55:46.278847Z",
     "start_time": "2021-08-31T09:55:46.250481Z"
    }
   },
   "outputs": [],
   "source": [
    "df.rename(columns = {'Close' : '수정종가'})"
   ]
  },
  {
   "cell_type": "markdown",
   "id": "4d21e651",
   "metadata": {},
   "source": [
    "- columns 직접수정하기"
   ]
  },
  {
   "cell_type": "code",
   "execution_count": null,
   "id": "2a075813",
   "metadata": {
    "ExecuteTime": {
     "end_time": "2021-08-31T09:55:46.294364Z",
     "start_time": "2021-08-31T09:55:46.280413Z"
    }
   },
   "outputs": [],
   "source": [
    "df.columns = [col.lower() for col in df.columns]"
   ]
  },
  {
   "cell_type": "code",
   "execution_count": null,
   "id": "93cb9b7c",
   "metadata": {
    "ExecuteTime": {
     "end_time": "2021-08-31T09:55:46.324349Z",
     "start_time": "2021-08-31T09:55:46.296359Z"
    }
   },
   "outputs": [],
   "source": [
    "df"
   ]
  },
  {
   "cell_type": "markdown",
   "id": "78f67e88",
   "metadata": {},
   "source": [
    "## 함수적용"
   ]
  },
  {
   "cell_type": "markdown",
   "id": "c5eeea92",
   "metadata": {},
   "source": [
    "- apply, map"
   ]
  },
  {
   "cell_type": "markdown",
   "id": "4789515b",
   "metadata": {},
   "source": [
    "### map : Series에 대한 메서드, 적용대상은 개별 data"
   ]
  },
  {
   "cell_type": "code",
   "execution_count": null,
   "id": "300b84df",
   "metadata": {
    "ExecuteTime": {
     "end_time": "2021-08-31T09:55:46.339289Z",
     "start_time": "2021-08-31T09:55:46.326278Z"
    }
   },
   "outputs": [],
   "source": [
    "# map\n",
    "df3 = df2[['sex','class']]\n",
    "df3['sex'].map(lambda x : '남자' if x == 'male' else '여자')\n",
    "df3['sex'].map( {'male' :'남자', 'female':'여자'}  )"
   ]
  },
  {
   "cell_type": "markdown",
   "id": "ed528832",
   "metadata": {},
   "source": [
    "### apply\n",
    "    - series에 적용하면, 개별 data에 대해 실행\n",
    "    - dataframe에 적용하면 개별 series에 대해 실행"
   ]
  },
  {
   "cell_type": "code",
   "execution_count": null,
   "id": "600bb6f9",
   "metadata": {
    "ExecuteTime": {
     "end_time": "2021-08-31T09:55:46.369189Z",
     "start_time": "2021-08-31T09:55:46.341286Z"
    }
   },
   "outputs": [],
   "source": [
    "# apply\n",
    "df3.sex.apply(lambda x : 0 if x == 'male' else 1)"
   ]
  },
  {
   "cell_type": "code",
   "execution_count": null,
   "id": "f7d53154",
   "metadata": {
    "ExecuteTime": {
     "end_time": "2021-08-31T09:55:46.399084Z",
     "start_time": "2021-08-31T09:55:46.370160Z"
    }
   },
   "outputs": [],
   "source": [
    "df3"
   ]
  },
  {
   "cell_type": "code",
   "execution_count": null,
   "id": "13a2b158",
   "metadata": {
    "ExecuteTime": {
     "end_time": "2021-08-31T09:55:46.474421Z",
     "start_time": "2021-08-31T09:55:46.406067Z"
    }
   },
   "outputs": [],
   "source": [
    "df3.apply(lambda x : x.unique(), axis=1)"
   ]
  },
  {
   "cell_type": "code",
   "execution_count": null,
   "id": "0510e2ab",
   "metadata": {
    "ExecuteTime": {
     "end_time": "2021-08-31T09:55:46.699281Z",
     "start_time": "2021-08-31T09:55:46.479411Z"
    }
   },
   "outputs": [],
   "source": [
    "df4 = df[['close','volume']]\n",
    "df4\n",
    "#df4.apply(lambda x: x.mean() , axis=0)\n",
    "df4.apply(lambda x: x.sum()  , axis=1)"
   ]
  },
  {
   "cell_type": "markdown",
   "id": "554d6f9d",
   "metadata": {},
   "source": [
    "## 결합"
   ]
  },
  {
   "cell_type": "markdown",
   "id": "504b8b97",
   "metadata": {},
   "source": [
    "- append, concat"
   ]
  },
  {
   "cell_type": "markdown",
   "id": "3c9957db",
   "metadata": {},
   "source": [
    "### append"
   ]
  },
  {
   "cell_type": "code",
   "execution_count": null,
   "id": "80873dbc",
   "metadata": {
    "ExecuteTime": {
     "end_time": "2021-08-31T09:55:46.729470Z",
     "start_time": "2021-08-31T09:55:46.700229Z"
    }
   },
   "outputs": [],
   "source": [
    "# append (세로로 결합)\n",
    "\n",
    "df[['open']].append(df[['close']])"
   ]
  },
  {
   "cell_type": "code",
   "execution_count": null,
   "id": "4080e83c",
   "metadata": {
    "ExecuteTime": {
     "end_time": "2021-08-31T09:55:46.774080Z",
     "start_time": "2021-08-31T09:55:46.730397Z"
    }
   },
   "outputs": [],
   "source": [
    "df_dcoh = df[['date','close','open','high']]\n",
    "df_lvc = df[['low','volume','change']]"
   ]
  },
  {
   "cell_type": "markdown",
   "id": "46c70e41",
   "metadata": {},
   "source": [
    "### concat"
   ]
  },
  {
   "cell_type": "code",
   "execution_count": null,
   "id": "8f6adb56",
   "metadata": {
    "ExecuteTime": {
     "end_time": "2021-08-31T09:55:46.804000Z",
     "start_time": "2021-08-31T09:55:46.776075Z"
    }
   },
   "outputs": [],
   "source": [
    "pd.concat([df_dcoh, df_lvc], axis=0)"
   ]
  },
  {
   "cell_type": "markdown",
   "id": "e22abbb5",
   "metadata": {},
   "source": [
    "## 정렬"
   ]
  },
  {
   "cell_type": "markdown",
   "id": "09885380",
   "metadata": {},
   "source": [
    "- sort_values"
   ]
  },
  {
   "cell_type": "code",
   "execution_count": null,
   "id": "491fd40a",
   "metadata": {
    "ExecuteTime": {
     "end_time": "2021-08-31T09:55:46.833946Z",
     "start_time": "2021-08-31T09:55:46.805994Z"
    }
   },
   "outputs": [],
   "source": [
    "df_sorted = df.sort_values(by=['close'], ascending=False)\n",
    "df_sorted.reset_index(drop=True)"
   ]
  },
  {
   "cell_type": "markdown",
   "id": "2d511b23",
   "metadata": {},
   "source": [
    "## 그룹핑"
   ]
  },
  {
   "cell_type": "markdown",
   "id": "f7ca9662",
   "metadata": {},
   "source": [
    "- groupby()\n",
    "- groupby().agg()\n",
    "- resample"
   ]
  },
  {
   "cell_type": "markdown",
   "id": "ccb95251",
   "metadata": {},
   "source": [
    "### groupby"
   ]
  },
  {
   "cell_type": "code",
   "execution_count": null,
   "id": "60e757b1",
   "metadata": {
    "ExecuteTime": {
     "end_time": "2021-08-31T09:55:46.848881Z",
     "start_time": "2021-08-31T09:55:46.836913Z"
    }
   },
   "outputs": [],
   "source": [
    "df3 = df2[['sex','class','fare']]\n",
    "#display(df3)\n",
    "df3.groupby('sex').size().reset_index()"
   ]
  },
  {
   "cell_type": "code",
   "execution_count": null,
   "id": "ff4fcc57",
   "metadata": {
    "ExecuteTime": {
     "end_time": "2021-08-31T09:55:46.878827Z",
     "start_time": "2021-08-31T09:55:46.850877Z"
    }
   },
   "outputs": [],
   "source": [
    "df3.groupby('class').agg(['mean','max','min'])"
   ]
  },
  {
   "cell_type": "markdown",
   "id": "e75b2fb4",
   "metadata": {},
   "source": [
    "### resample"
   ]
  },
  {
   "cell_type": "code",
   "execution_count": null,
   "id": "14c357dd",
   "metadata": {
    "ExecuteTime": {
     "end_time": "2021-08-31T09:55:46.908720Z",
     "start_time": "2021-08-31T09:55:46.879798Z"
    }
   },
   "outputs": [],
   "source": [
    "#resample\n",
    "\n",
    "df.index = pd.to_datetime(df.date)\n",
    "df = df.drop(['date'],axis=1)\n",
    "df"
   ]
  },
  {
   "cell_type": "code",
   "execution_count": null,
   "id": "904a8431",
   "metadata": {
    "ExecuteTime": {
     "end_time": "2021-08-31T09:55:46.953604Z",
     "start_time": "2021-08-31T09:55:46.910716Z"
    }
   },
   "outputs": [],
   "source": [
    "df.resample('YS').max()"
   ]
  },
  {
   "cell_type": "markdown",
   "id": "56ede1ec",
   "metadata": {},
   "source": [
    "## 결측치처리"
   ]
  },
  {
   "cell_type": "code",
   "execution_count": null,
   "id": "0652fae1",
   "metadata": {
    "ExecuteTime": {
     "end_time": "2021-08-31T09:55:46.983599Z",
     "start_time": "2021-08-31T09:55:46.956593Z"
    }
   },
   "outputs": [],
   "source": [
    "df2.info()"
   ]
  },
  {
   "cell_type": "markdown",
   "id": "60234b93",
   "metadata": {},
   "source": [
    "### 결측치 확인"
   ]
  },
  {
   "cell_type": "code",
   "execution_count": null,
   "id": "eea655af",
   "metadata": {
    "ExecuteTime": {
     "end_time": "2021-08-31T09:55:47.043362Z",
     "start_time": "2021-08-31T09:55:46.986514Z"
    }
   },
   "outputs": [],
   "source": [
    "#age칼럼에 NaN값을 가지는 row 반환\n",
    "df2.loc[df2.age.isna()]"
   ]
  },
  {
   "cell_type": "code",
   "execution_count": null,
   "id": "5d78e131",
   "metadata": {
    "ExecuteTime": {
     "end_time": "2021-08-31T09:55:47.103201Z",
     "start_time": "2021-08-31T09:55:47.045356Z"
    }
   },
   "outputs": [],
   "source": [
    "# 결측치 가지고 있는 행 삭제\n",
    "df2.dropna()"
   ]
  },
  {
   "cell_type": "code",
   "execution_count": null,
   "id": "36ff1c87",
   "metadata": {
    "ExecuteTime": {
     "end_time": "2021-08-31T09:55:47.163086Z",
     "start_time": "2021-08-31T09:55:47.106194Z"
    }
   },
   "outputs": [],
   "source": [
    "df2 = df2.drop(['age','deck'],axis=1)\n",
    "df2"
   ]
  },
  {
   "cell_type": "code",
   "execution_count": null,
   "id": "09bf600f",
   "metadata": {
    "ExecuteTime": {
     "end_time": "2021-08-31T09:55:47.195954Z",
     "start_time": "2021-08-31T09:55:47.168368Z"
    }
   },
   "outputs": [],
   "source": [
    "df2.loc[df2.embarked.isna()]"
   ]
  },
  {
   "cell_type": "code",
   "execution_count": null,
   "id": "66624ac6",
   "metadata": {
    "ExecuteTime": {
     "end_time": "2021-08-31T09:55:47.238948Z",
     "start_time": "2021-08-31T09:55:47.199943Z"
    }
   },
   "outputs": [],
   "source": [
    "df2.drop([61, 829], axis=0)"
   ]
  },
  {
   "cell_type": "markdown",
   "id": "9d91d563",
   "metadata": {},
   "source": [
    "### 결측치채우기"
   ]
  },
  {
   "cell_type": "code",
   "execution_count": null,
   "id": "88e84368",
   "metadata": {
    "ExecuteTime": {
     "end_time": "2021-08-31T09:55:47.268835Z",
     "start_time": "2021-08-31T09:55:47.240834Z"
    }
   },
   "outputs": [],
   "source": [
    "df2_fillna = df2.fillna(method='ffill')\n",
    "df2_fillna.loc[df2_fillna.embarked.isna()]"
   ]
  },
  {
   "cell_type": "markdown",
   "id": "4865496c",
   "metadata": {},
   "source": [
    "## 더미변수"
   ]
  },
  {
   "cell_type": "code",
   "execution_count": null,
   "id": "191c0dbb",
   "metadata": {
    "ExecuteTime": {
     "end_time": "2021-08-31T09:55:47.328372Z",
     "start_time": "2021-08-31T09:55:47.270753Z"
    }
   },
   "outputs": [],
   "source": [
    "pd.get_dummies(df2)"
   ]
  },
  {
   "cell_type": "markdown",
   "id": "96a005af",
   "metadata": {},
   "source": [
    "## 구간으로 자르기"
   ]
  },
  {
   "cell_type": "code",
   "execution_count": null,
   "id": "d43ae61d",
   "metadata": {
    "ExecuteTime": {
     "end_time": "2021-08-31T09:55:47.374548Z",
     "start_time": "2021-08-31T09:55:47.331620Z"
    }
   },
   "outputs": [],
   "source": [
    "df"
   ]
  },
  {
   "cell_type": "code",
   "execution_count": null,
   "id": "529f649f",
   "metadata": {
    "ExecuteTime": {
     "end_time": "2021-08-31T09:55:47.404532Z",
     "start_time": "2021-08-31T09:55:47.378466Z"
    }
   },
   "outputs": [],
   "source": [
    "pd.cut(df['close'], bins=2, labels=['하','상'])"
   ]
  },
  {
   "cell_type": "markdown",
   "id": "339668a9",
   "metadata": {},
   "source": [
    "## 저장 / 불러오기"
   ]
  },
  {
   "cell_type": "code",
   "execution_count": null,
   "id": "93992ede",
   "metadata": {
    "ExecuteTime": {
     "end_time": "2021-08-31T09:55:47.434401Z",
     "start_time": "2021-08-31T09:55:47.406391Z"
    }
   },
   "outputs": [],
   "source": [
    "df3.to_csv('data/sample.csv')"
   ]
  },
  {
   "cell_type": "code",
   "execution_count": null,
   "id": "b71c3291",
   "metadata": {
    "ExecuteTime": {
     "end_time": "2021-08-31T09:55:47.464237Z",
     "start_time": "2021-08-31T09:55:47.436341Z"
    }
   },
   "outputs": [],
   "source": [
    "pd.read_csv('data/sample.csv', index_col = 0)"
   ]
  }
 ],
 "metadata": {
  "hide_input": false,
  "kernelspec": {
   "display_name": "Python 3",
   "language": "python",
   "name": "python3"
  },
  "language_info": {
   "codemirror_mode": {
    "name": "ipython",
    "version": 3
   },
   "file_extension": ".py",
   "mimetype": "text/x-python",
   "name": "python",
   "nbconvert_exporter": "python",
   "pygments_lexer": "ipython3",
   "version": "3.8.5"
  },
  "toc": {
   "base_numbering": 1,
   "nav_menu": {},
   "number_sections": true,
   "sideBar": true,
   "skip_h1_title": false,
   "title_cell": "Table of Contents",
   "title_sidebar": "Contents",
   "toc_cell": false,
   "toc_position": {},
   "toc_section_display": true,
   "toc_window_display": false
  },
  "varInspector": {
   "cols": {
    "lenName": 16,
    "lenType": 16,
    "lenVar": 40
   },
   "kernels_config": {
    "python": {
     "delete_cmd_postfix": "",
     "delete_cmd_prefix": "del ",
     "library": "var_list.py",
     "varRefreshCmd": "print(var_dic_list())"
    },
    "r": {
     "delete_cmd_postfix": ") ",
     "delete_cmd_prefix": "rm(",
     "library": "var_list.r",
     "varRefreshCmd": "cat(var_dic_list()) "
    }
   },
   "types_to_exclude": [
    "module",
    "function",
    "builtin_function_or_method",
    "instance",
    "_Feature"
   ],
   "window_display": false
  }
 },
 "nbformat": 4,
 "nbformat_minor": 5
}
